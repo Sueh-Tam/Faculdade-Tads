{
  "nbformat": 4,
  "nbformat_minor": 0,
  "metadata": {
    "colab": {
      "provenance": []
    },
    "kernelspec": {
      "name": "python3",
      "display_name": "Python 3"
    },
    "language_info": {
      "name": "python"
    }
  },
  "cells": [
    {
      "cell_type": "markdown",
      "source": [
        "## Criar e inicializar banco ##"
      ],
      "metadata": {
        "id": "-2FH8JMJ_N8B"
      }
    },
    {
      "cell_type": "code",
      "execution_count": 1,
      "metadata": {
        "colab": {
          "base_uri": "https://localhost:8080/"
        },
        "id": "kMNw6nuN8gZy",
        "outputId": "b351e303-3db2-42d3-b989-6e859ac7404c"
      },
      "outputs": [
        {
          "output_type": "stream",
          "name": "stdout",
          "text": [
            "\n",
            "WARNING: apt does not have a stable CLI interface. Use with caution in scripts.\n",
            "\n"
          ]
        }
      ],
      "source": [
        "!apt install mongodb >log"
      ]
    },
    {
      "cell_type": "code",
      "source": [
        "!service mongodb start"
      ],
      "metadata": {
        "colab": {
          "base_uri": "https://localhost:8080/"
        },
        "id": "_kOheEmV8zEJ",
        "outputId": "504c4998-9298-4aef-ab6c-779778f55e0a"
      },
      "execution_count": 2,
      "outputs": [
        {
          "output_type": "stream",
          "name": "stdout",
          "text": [
            " * Starting database mongodb\n",
            "   ...done.\n"
          ]
        }
      ]
    },
    {
      "cell_type": "code",
      "source": [
        "!pip install pymongo"
      ],
      "metadata": {
        "colab": {
          "base_uri": "https://localhost:8080/"
        },
        "id": "_hp7HOobIWPa",
        "outputId": "76d15300-ca5c-4a66-9382-23e66b149bb0"
      },
      "execution_count": 3,
      "outputs": [
        {
          "output_type": "stream",
          "name": "stdout",
          "text": [
            "Looking in indexes: https://pypi.org/simple, https://us-python.pkg.dev/colab-wheels/public/simple/\n",
            "Collecting pymongo\n",
            "  Downloading pymongo-4.3.3-cp39-cp39-manylinux_2_17_x86_64.manylinux2014_x86_64.whl (492 kB)\n",
            "\u001b[2K     \u001b[90m━━━━━━━━━━━━━━━━━━━━━━━━━━━━━━━━━━━━━━━\u001b[0m \u001b[32m492.1/492.1 KB\u001b[0m \u001b[31m8.3 MB/s\u001b[0m eta \u001b[36m0:00:00\u001b[0m\n",
            "\u001b[?25hCollecting dnspython<3.0.0,>=1.16.0\n",
            "  Downloading dnspython-2.3.0-py3-none-any.whl (283 kB)\n",
            "\u001b[2K     \u001b[90m━━━━━━━━━━━━━━━━━━━━━━━━━━━━━━━━━━━━━━\u001b[0m \u001b[32m283.7/283.7 KB\u001b[0m \u001b[31m22.4 MB/s\u001b[0m eta \u001b[36m0:00:00\u001b[0m\n",
            "\u001b[?25hInstalling collected packages: dnspython, pymongo\n",
            "Successfully installed dnspython-2.3.0 pymongo-4.3.3\n"
          ]
        }
      ]
    },
    {
      "cell_type": "code",
      "source": [
        "# driver do python para conexão com o mongodb\n",
        "import pymongo"
      ],
      "metadata": {
        "id": "V0mlCBdC-_Rf"
      },
      "execution_count": 4,
      "outputs": []
    },
    {
      "cell_type": "code",
      "source": [
        "client = pymongo.MongoClient()"
      ],
      "metadata": {
        "id": "8nlddMz6-8cs"
      },
      "execution_count": 5,
      "outputs": []
    },
    {
      "cell_type": "code",
      "source": [
        "db = client.get_database('loja') "
      ],
      "metadata": {
        "id": "NFg34VZc-31z"
      },
      "execution_count": 6,
      "outputs": []
    },
    {
      "cell_type": "markdown",
      "source": [
        "## Create Usuarios ##"
      ],
      "metadata": {
        "id": "aiYZ6boy_UJN"
      }
    },
    {
      "cell_type": "code",
      "source": [
        "#Nome, email, password \n",
        "usuarios = [ \n",
        "    {\n",
        "        \"nome\": \"matheus\",\n",
        "        \"email\":\"matheus@gmail.com\",\n",
        "        \"password\":\"123456789\",\n",
        "        \"prod_fav\":\n",
        "        [\n",
        "          {\n",
        "              \"nome_prod\":\"Notebook az\",\n",
        "              \"codigo_prod\":\"ABC\",\n",
        "              \"preco\": 159.10\n",
        "          }\n",
        "        ]\n",
        "    },\n",
        "    {\n",
        "        \"nome\": \"Pedro\",\n",
        "        \"email\": \"pedro@gmail.com\",\n",
        "        \"password\": \"789456123\",\n",
        "        \"prod_fav\":\n",
        "        [\n",
        "          {\n",
        "              \"nome_prod\":\"Notebook az\",\n",
        "              \"codigo_prod\":\"ABC\",\n",
        "              \"preco\": 310\n",
        "          }\n",
        "        ]\n",
        "    },\n",
        "    {\n",
        "        \"nome\":\"Cadu\",\n",
        "        \"email\":\"cadu@gmail.com\",\n",
        "        \"password\":\"456789123\",\n",
        "        \"prod_fav\":\n",
        "        [\n",
        "          {\n",
        "              \"nome_prod\":\"Notebook mais ou menos\",\n",
        "              \"codigo_prod\":\"DEF\",\n",
        "              \"preco\": 900\n",
        "          }\n",
        "        ]\n",
        "    }\n",
        "]\n"
      ],
      "metadata": {
        "id": "XU2bsVw69fvR"
      },
      "execution_count": 22,
      "outputs": []
    },
    {
      "cell_type": "code",
      "source": [
        "db.usuarios.insert_many(usuarios)"
      ],
      "metadata": {
        "colab": {
          "base_uri": "https://localhost:8080/"
        },
        "id": "ULJJeyd9-wey",
        "outputId": "51bf3b1d-bdb4-4ba6-fdbb-601277b333f8"
      },
      "execution_count": 23,
      "outputs": [
        {
          "output_type": "execute_result",
          "data": {
            "text/plain": [
              "<pymongo.results.InsertManyResult at 0x7fd1493cca60>"
            ]
          },
          "metadata": {},
          "execution_count": 23
        }
      ]
    },
    {
      "cell_type": "code",
      "source": [
        "list(db.usuarios.find())"
      ],
      "metadata": {
        "colab": {
          "base_uri": "https://localhost:8080/"
        },
        "id": "tf70TGD9-CYm",
        "outputId": "1ac22524-d720-40b0-f020-cca81f748fd6"
      },
      "execution_count": 9,
      "outputs": [
        {
          "output_type": "execute_result",
          "data": {
            "text/plain": [
              "[{'_id': ObjectId('641ccf013022264146f16812'),\n",
              "  'nome': 'matheus',\n",
              "  'email': 'matheus@gmail.com',\n",
              "  'password': '123456789',\n",
              "  'prod_fav': [{'nome_prod': 'Notebook az',\n",
              "    'codigo_prod': 'ABC',\n",
              "    'preco': 159.1}]},\n",
              " {'_id': ObjectId('641ccf013022264146f16813'),\n",
              "  'nome': 'Pedro',\n",
              "  'email': 'pedro@gmail.com',\n",
              "  'password': '789456123',\n",
              "  'prod_fav': [{'nome_prod': 'Notebook Ruim',\n",
              "    'codigo_prod': 'CBY',\n",
              "    'preco': 310}]},\n",
              " {'_id': ObjectId('641ccf013022264146f16814'),\n",
              "  'nome': 'Cadu',\n",
              "  'email': 'cadu@gmail.com',\n",
              "  'password': '456789123',\n",
              "  'prod_fav': [{'nome_prod': 'Notebook mais ou menos',\n",
              "    'codigo_prod': 'DEF',\n",
              "    'preco': 900}]}]"
            ]
          },
          "metadata": {},
          "execution_count": 9
        }
      ]
    },
    {
      "cell_type": "markdown",
      "source": [
        "## Read Usuários ##"
      ],
      "metadata": {
        "id": "inhgHMPC_awv"
      }
    },
    {
      "cell_type": "code",
      "source": [
        "recoverUser = db.usuarios.find_one(\n",
        "    {\n",
        "        \"nome\":\"Pedro\"\n",
        "    }\n",
        "  )\n",
        "print(recoverUser)\n",
        "\n",
        "#recoverUsers = list(db.usuarios.find())\n",
        "#print(recoverUsers)\n"
      ],
      "metadata": {
        "colab": {
          "base_uri": "https://localhost:8080/"
        },
        "id": "Y_05Nq6o_2ZN",
        "outputId": "485a1b38-1702-4677-89c5-df06c05cc06e"
      },
      "execution_count": 11,
      "outputs": [
        {
          "output_type": "stream",
          "name": "stdout",
          "text": [
            "{'_id': ObjectId('641ccf013022264146f16813'), 'nome': 'Pedro', 'email': 'pedro@gmail.com', 'password': '789456123', 'prod_fav': [{'nome_prod': 'Notebook Ruim', 'codigo_prod': 'CBY', 'preco': 310}]}\n"
          ]
        }
      ]
    },
    {
      "cell_type": "markdown",
      "source": [
        "## Update Usuários ##"
      ],
      "metadata": {
        "id": "KGMU3UYgAwbb"
      }
    },
    {
      "cell_type": "code",
      "source": [
        "usuarios[0][\"email\"] = \"novoemail@email.com\"\n",
        "usuarios[0][\"password\"] = \"novasenha_123\"\n",
        "db.usuarios.replace_one(\n",
        "    {\n",
        "        \"_id\":usuarios[0][\"_id\"]\n",
        "    },\n",
        "    usuarios[0]\n",
        ")\n",
        "UpdatedUser = db.usuarios.find_one(\n",
        "    {\n",
        "        \"nome\":\"matheus\"\n",
        "    },\n",
        "    \n",
        ")\n",
        "print(UpdatedUser)\n"
      ],
      "metadata": {
        "id": "aC6LqoL_Azq0",
        "colab": {
          "base_uri": "https://localhost:8080/"
        },
        "outputId": "db1b0f54-f1fb-431a-d1b1-4a34c5bdb79e"
      },
      "execution_count": 12,
      "outputs": [
        {
          "output_type": "stream",
          "name": "stdout",
          "text": [
            "{'_id': ObjectId('641ccf013022264146f16812'), 'nome': 'matheus', 'email': 'novoemail@email.com', 'password': 'novasenha_123', 'prod_fav': [{'nome_prod': 'Notebook az', 'codigo_prod': 'ABC', 'preco': 159.1}]}\n"
          ]
        }
      ]
    },
    {
      "cell_type": "markdown",
      "source": [
        "## DELETE ##"
      ],
      "metadata": {
        "id": "c-fQE4EtKTbZ"
      }
    },
    {
      "cell_type": "code",
      "source": [
        "db.usuarios.delete_one(\n",
        "    {\n",
        "        \"_id\":usuarios[0][\"_id\"]\n",
        "    }\n",
        ")\n",
        "\n",
        "allUsers = list(db.usuarios.find())\n",
        "print(allUsers)"
      ],
      "metadata": {
        "colab": {
          "base_uri": "https://localhost:8080/"
        },
        "id": "God-Nc3HKU00",
        "outputId": "f23b5216-d229-4bd5-bd5f-88c6596dd3af"
      },
      "execution_count": null,
      "outputs": [
        {
          "output_type": "stream",
          "name": "stdout",
          "text": [
            "[{'_id': ObjectId('6415cb3787bce53c6e1bcc1a'), 'nome': 'Pedro', 'email': 'pedro@gmail.com', 'password': '789456123'}, {'_id': ObjectId('6415cb3787bce53c6e1bcc1b'), 'nome': 'Cadu', 'email': 'cadu@gmail.com', 'password': '456789123'}]\n"
          ]
        }
      ]
    },
    {
      "cell_type": "code",
      "source": [
        "opcoes = [\"ABC\"]\n",
        "filtro = list(db.usuarios.find(\n",
        "    {\n",
        "      \n",
        "      \"prod_fav.codigo_prod\":{\"$in\": opcoes}\n",
        "    }\n",
        "))\n",
        "print(filtro)"
      ],
      "metadata": {
        "colab": {
          "base_uri": "https://localhost:8080/"
        },
        "id": "XNiUCxf-L5Ix",
        "outputId": "d126b371-4794-43b8-88f2-d55bdd83c39d"
      },
      "execution_count": 46,
      "outputs": [
        {
          "output_type": "stream",
          "name": "stdout",
          "text": [
            "[{'_id': ObjectId('641ccf013022264146f16812'), 'nome': 'matheus', 'email': 'novoemail@email.com', 'password': 'novasenha_123', 'prod_fav': [{'nome_prod': 'Notebook az', 'codigo_prod': 'ABC', 'preco': 159.1}]}, {'_id': ObjectId('641cd54c3022264146f16815'), 'nome': 'matheus', 'email': 'matheus@gmail.com', 'password': '123456789', 'prod_fav': [{'nome_prod': 'Notebook az', 'codigo_prod': 'ABC', 'preco': 159.1}]}, {'_id': ObjectId('641cd54c3022264146f16816'), 'nome': 'Pedro', 'email': 'pedro@gmail.com', 'password': '789456123', 'prod_fav': [{'nome_prod': 'Notebook az', 'codigo_prod': 'ABC', 'preco': 310}]}]\n"
          ]
        }
      ]
    }
  ]
}